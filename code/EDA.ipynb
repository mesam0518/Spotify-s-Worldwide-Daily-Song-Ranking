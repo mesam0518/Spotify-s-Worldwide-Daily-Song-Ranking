{
 "cells": [
  {
   "cell_type": "code",
   "execution_count": 3,
   "metadata": {},
   "outputs": [],
   "source": [
    "import pandas as pd\n",
    "import numpy as np\n",
    "import matplotlib.pyplot as plt\n",
    "import seaborn as sns\n",
    "from sklearn.model_selection import GridSearchCV, train_test_split, cross_val_score\n",
    "from sklearn.linear_model import LinearRegression\n",
    "import re\n",
    "from sklearn.preprocessing import StandardScaler\n",
    "from sklearn.neighbors import KNeighborsClassifier\n",
    "from sqlalchemy import create_engine\n",
    "from pandas.plotting import register_matplotlib_converters\n",
    "register_matplotlib_converters()\n",
    "\n",
    "%matplotlib inline\n",
    "%config InlineBackend.figure_format ='retina'"
   ]
  },
  {
   "cell_type": "code",
   "execution_count": 4,
   "metadata": {},
   "outputs": [
    {
     "data": {
      "text/plain": [
       "'/Users/morvaridesam/Desktop/capstone'"
      ]
     },
     "execution_count": 4,
     "metadata": {},
     "output_type": "execute_result"
    }
   ],
   "source": [
    "pwd"
   ]
  },
  {
   "cell_type": "code",
   "execution_count": 5,
   "metadata": {},
   "outputs": [],
   "source": [
    "df = pd.read_csv('./Data/top200-new.csv')"
   ]
  },
  {
   "cell_type": "code",
   "execution_count": 6,
   "metadata": {},
   "outputs": [
    {
     "data": {
      "text/html": [
       "<div>\n",
       "<style scoped>\n",
       "    .dataframe tbody tr th:only-of-type {\n",
       "        vertical-align: middle;\n",
       "    }\n",
       "\n",
       "    .dataframe tbody tr th {\n",
       "        vertical-align: top;\n",
       "    }\n",
       "\n",
       "    .dataframe thead th {\n",
       "        text-align: right;\n",
       "    }\n",
       "</style>\n",
       "<table border=\"1\" class=\"dataframe\">\n",
       "  <thead>\n",
       "    <tr style=\"text-align: right;\">\n",
       "      <th></th>\n",
       "      <th>Position</th>\n",
       "      <th>Track Name</th>\n",
       "      <th>Artist</th>\n",
       "      <th>Streams</th>\n",
       "      <th>date</th>\n",
       "      <th>region</th>\n",
       "      <th>spotify_id</th>\n",
       "    </tr>\n",
       "  </thead>\n",
       "  <tbody>\n",
       "    <tr>\n",
       "      <th>0</th>\n",
       "      <td>1.0</td>\n",
       "      <td>Sunflower - Spider-Man: Into the Spider-Verse</td>\n",
       "      <td>Post Malone</td>\n",
       "      <td>1867789.0</td>\n",
       "      <td>2019-01-01</td>\n",
       "      <td>us</td>\n",
       "      <td>3KkXRkHbMCARz0aVfEt68P</td>\n",
       "    </tr>\n",
       "    <tr>\n",
       "      <th>1</th>\n",
       "      <td>2.0</td>\n",
       "      <td>Wow.</td>\n",
       "      <td>Post Malone</td>\n",
       "      <td>1564946.0</td>\n",
       "      <td>2019-01-01</td>\n",
       "      <td>us</td>\n",
       "      <td>6MWtB6iiXyIwun0YzU6DFP</td>\n",
       "    </tr>\n",
       "    <tr>\n",
       "      <th>2</th>\n",
       "      <td>3.0</td>\n",
       "      <td>SICKO MODE</td>\n",
       "      <td>Travis Scott</td>\n",
       "      <td>1454622.0</td>\n",
       "      <td>2019-01-01</td>\n",
       "      <td>us</td>\n",
       "      <td>2xLMifQCjDGFmkHkpNLD9h</td>\n",
       "    </tr>\n",
       "    <tr>\n",
       "      <th>3</th>\n",
       "      <td>4.0</td>\n",
       "      <td>thank u, next</td>\n",
       "      <td>Ariana Grande</td>\n",
       "      <td>1397512.0</td>\n",
       "      <td>2019-01-01</td>\n",
       "      <td>us</td>\n",
       "      <td>2rPE9A1vEgShuZxxzR2tZH</td>\n",
       "    </tr>\n",
       "    <tr>\n",
       "      <th>4</th>\n",
       "      <td>5.0</td>\n",
       "      <td>Going Bad (feat. Drake)</td>\n",
       "      <td>Meek Mill</td>\n",
       "      <td>1245437.0</td>\n",
       "      <td>2019-01-01</td>\n",
       "      <td>us</td>\n",
       "      <td>2IRZnDFmlqMuOrYOLnZZyc</td>\n",
       "    </tr>\n",
       "  </tbody>\n",
       "</table>\n",
       "</div>"
      ],
      "text/plain": [
       "   Position                                     Track Name         Artist  \\\n",
       "0       1.0  Sunflower - Spider-Man: Into the Spider-Verse    Post Malone   \n",
       "1       2.0                                           Wow.    Post Malone   \n",
       "2       3.0                                     SICKO MODE   Travis Scott   \n",
       "3       4.0                                  thank u, next  Ariana Grande   \n",
       "4       5.0                        Going Bad (feat. Drake)      Meek Mill   \n",
       "\n",
       "     Streams        date region              spotify_id  \n",
       "0  1867789.0  2019-01-01     us  3KkXRkHbMCARz0aVfEt68P  \n",
       "1  1564946.0  2019-01-01     us  6MWtB6iiXyIwun0YzU6DFP  \n",
       "2  1454622.0  2019-01-01     us  2xLMifQCjDGFmkHkpNLD9h  \n",
       "3  1397512.0  2019-01-01     us  2rPE9A1vEgShuZxxzR2tZH  \n",
       "4  1245437.0  2019-01-01     us  2IRZnDFmlqMuOrYOLnZZyc  "
      ]
     },
     "execution_count": 6,
     "metadata": {},
     "output_type": "execute_result"
    }
   ],
   "source": [
    "df.head()"
   ]
  },
  {
   "cell_type": "code",
   "execution_count": 7,
   "metadata": {},
   "outputs": [
    {
     "data": {
      "text/plain": [
       "fr            73000\n",
       "br            73000\n",
       "ca            73000\n",
       "nl            73000\n",
       "se            73000\n",
       "us            73000\n",
       "de            73000\n",
       "gb            73000\n",
       "au            73000\n",
       "mx            72800\n",
       "2019-04-13      200\n",
       "Name: region, dtype: int64"
      ]
     },
     "execution_count": 7,
     "metadata": {},
     "output_type": "execute_result"
    }
   ],
   "source": [
    "df.region.value_counts()"
   ]
  },
  {
   "cell_type": "code",
   "execution_count": 8,
   "metadata": {},
   "outputs": [],
   "source": [
    "multi_index_df = pd.MultiIndex.from_frame(df)"
   ]
  },
  {
   "cell_type": "code",
   "execution_count": 9,
   "metadata": {},
   "outputs": [
    {
     "ename": "KeyError",
     "evalue": "\"None of [MultiIndex([(  1.0, 'Sunflower - Spider-Man: Into the Spider-Verse', ...),\\n            (  2.0,                                          'Wow.', ...),\\n            (  3.0,                                    'SICKO MODE', ...),\\n            (  4.0,                                 'thank u, next', ...),\\n            (  5.0,                       'Going Bad (feat. Drake)', ...),\\n            (  6.0,                                      'Mo Bamba', ...),\\n            (  7.0,              'Drip Too Hard (Lil Baby & Gunna)', ...),\\n            (  8.0,            'ZEZE (feat. Travis Scott & Offset)', ...),\\n            (  9.0,                                    'Without Me', ...),\\n            ( 10.0,                                'Leave Me Alone', ...),\\n            ...\\n            (191.0,                                 'Cheap Thrills', ...),\\n            (192.0,                                          'Fusk', ...),\\n            (193.0,                     'Promises (with Sam Smith)', ...),\\n            (194.0,                                     'September', ...),\\n            (195.0,                       'The Rhythm of the Night', ...),\\n            (196.0,                 'Hold On (feat. Michel Zitron)', ...),\\n            (197.0,                               'När jag var han', ...),\\n            (198.0,                                    'Safe Place', ...),\\n            (199.0,                           'Tror jag hittar hem', ...),\\n            (200.0,                                    'Costa Rica', ...)],\\n           names=['Position', 'Track Name', 'Artist', 'Streams', 'date', 'region', 'spotify_id'], length=730000)] are in the [columns]\"",
     "output_type": "error",
     "traceback": [
      "\u001b[0;31m---------------------------------------------------------------------------\u001b[0m",
      "\u001b[0;31mKeyError\u001b[0m                                  Traceback (most recent call last)",
      "\u001b[0;32m<ipython-input-9-77f0977dcad6>\u001b[0m in \u001b[0;36m<module>\u001b[0;34m\u001b[0m\n\u001b[0;32m----> 1\u001b[0;31m \u001b[0mdf\u001b[0m\u001b[0;34m[\u001b[0m\u001b[0mmulti_index_df\u001b[0m\u001b[0;34m]\u001b[0m\u001b[0;34m\u001b[0m\u001b[0;34m\u001b[0m\u001b[0m\n\u001b[0m",
      "\u001b[0;32m/opt/anaconda3/lib/python3.7/site-packages/pandas/core/frame.py\u001b[0m in \u001b[0;36m__getitem__\u001b[0;34m(self, key)\u001b[0m\n\u001b[1;32m   2999\u001b[0m             \u001b[0;32mif\u001b[0m \u001b[0mis_iterator\u001b[0m\u001b[0;34m(\u001b[0m\u001b[0mkey\u001b[0m\u001b[0;34m)\u001b[0m\u001b[0;34m:\u001b[0m\u001b[0;34m\u001b[0m\u001b[0;34m\u001b[0m\u001b[0m\n\u001b[1;32m   3000\u001b[0m                 \u001b[0mkey\u001b[0m \u001b[0;34m=\u001b[0m \u001b[0mlist\u001b[0m\u001b[0;34m(\u001b[0m\u001b[0mkey\u001b[0m\u001b[0;34m)\u001b[0m\u001b[0;34m\u001b[0m\u001b[0;34m\u001b[0m\u001b[0m\n\u001b[0;32m-> 3001\u001b[0;31m             \u001b[0mindexer\u001b[0m \u001b[0;34m=\u001b[0m \u001b[0mself\u001b[0m\u001b[0;34m.\u001b[0m\u001b[0mloc\u001b[0m\u001b[0;34m.\u001b[0m\u001b[0m_convert_to_indexer\u001b[0m\u001b[0;34m(\u001b[0m\u001b[0mkey\u001b[0m\u001b[0;34m,\u001b[0m \u001b[0maxis\u001b[0m\u001b[0;34m=\u001b[0m\u001b[0;36m1\u001b[0m\u001b[0;34m,\u001b[0m \u001b[0mraise_missing\u001b[0m\u001b[0;34m=\u001b[0m\u001b[0;32mTrue\u001b[0m\u001b[0;34m)\u001b[0m\u001b[0;34m\u001b[0m\u001b[0;34m\u001b[0m\u001b[0m\n\u001b[0m\u001b[1;32m   3002\u001b[0m \u001b[0;34m\u001b[0m\u001b[0m\n\u001b[1;32m   3003\u001b[0m         \u001b[0;31m# take() does not accept boolean indexers\u001b[0m\u001b[0;34m\u001b[0m\u001b[0;34m\u001b[0m\u001b[0;34m\u001b[0m\u001b[0m\n",
      "\u001b[0;32m/opt/anaconda3/lib/python3.7/site-packages/pandas/core/indexing.py\u001b[0m in \u001b[0;36m_convert_to_indexer\u001b[0;34m(self, obj, axis, is_setter, raise_missing)\u001b[0m\n\u001b[1;32m   1283\u001b[0m                 \u001b[0;31m# When setting, missing keys are not allowed, even with .loc:\u001b[0m\u001b[0;34m\u001b[0m\u001b[0;34m\u001b[0m\u001b[0;34m\u001b[0m\u001b[0m\n\u001b[1;32m   1284\u001b[0m                 \u001b[0mkwargs\u001b[0m \u001b[0;34m=\u001b[0m \u001b[0;34m{\u001b[0m\u001b[0;34m\"raise_missing\"\u001b[0m\u001b[0;34m:\u001b[0m \u001b[0;32mTrue\u001b[0m \u001b[0;32mif\u001b[0m \u001b[0mis_setter\u001b[0m \u001b[0;32melse\u001b[0m \u001b[0mraise_missing\u001b[0m\u001b[0;34m}\u001b[0m\u001b[0;34m\u001b[0m\u001b[0;34m\u001b[0m\u001b[0m\n\u001b[0;32m-> 1285\u001b[0;31m                 \u001b[0;32mreturn\u001b[0m \u001b[0mself\u001b[0m\u001b[0;34m.\u001b[0m\u001b[0m_get_listlike_indexer\u001b[0m\u001b[0;34m(\u001b[0m\u001b[0mobj\u001b[0m\u001b[0;34m,\u001b[0m \u001b[0maxis\u001b[0m\u001b[0;34m,\u001b[0m \u001b[0;34m**\u001b[0m\u001b[0mkwargs\u001b[0m\u001b[0;34m)\u001b[0m\u001b[0;34m[\u001b[0m\u001b[0;36m1\u001b[0m\u001b[0;34m]\u001b[0m\u001b[0;34m\u001b[0m\u001b[0;34m\u001b[0m\u001b[0m\n\u001b[0m\u001b[1;32m   1286\u001b[0m         \u001b[0;32melse\u001b[0m\u001b[0;34m:\u001b[0m\u001b[0;34m\u001b[0m\u001b[0;34m\u001b[0m\u001b[0m\n\u001b[1;32m   1287\u001b[0m             \u001b[0;32mtry\u001b[0m\u001b[0;34m:\u001b[0m\u001b[0;34m\u001b[0m\u001b[0;34m\u001b[0m\u001b[0m\n",
      "\u001b[0;32m/opt/anaconda3/lib/python3.7/site-packages/pandas/core/indexing.py\u001b[0m in \u001b[0;36m_get_listlike_indexer\u001b[0;34m(self, key, axis, raise_missing)\u001b[0m\n\u001b[1;32m   1090\u001b[0m \u001b[0;34m\u001b[0m\u001b[0m\n\u001b[1;32m   1091\u001b[0m         self._validate_read_indexer(\n\u001b[0;32m-> 1092\u001b[0;31m             \u001b[0mkeyarr\u001b[0m\u001b[0;34m,\u001b[0m \u001b[0mindexer\u001b[0m\u001b[0;34m,\u001b[0m \u001b[0mo\u001b[0m\u001b[0;34m.\u001b[0m\u001b[0m_get_axis_number\u001b[0m\u001b[0;34m(\u001b[0m\u001b[0maxis\u001b[0m\u001b[0;34m)\u001b[0m\u001b[0;34m,\u001b[0m \u001b[0mraise_missing\u001b[0m\u001b[0;34m=\u001b[0m\u001b[0mraise_missing\u001b[0m\u001b[0;34m\u001b[0m\u001b[0;34m\u001b[0m\u001b[0m\n\u001b[0m\u001b[1;32m   1093\u001b[0m         )\n\u001b[1;32m   1094\u001b[0m         \u001b[0;32mreturn\u001b[0m \u001b[0mkeyarr\u001b[0m\u001b[0;34m,\u001b[0m \u001b[0mindexer\u001b[0m\u001b[0;34m\u001b[0m\u001b[0;34m\u001b[0m\u001b[0m\n",
      "\u001b[0;32m/opt/anaconda3/lib/python3.7/site-packages/pandas/core/indexing.py\u001b[0m in \u001b[0;36m_validate_read_indexer\u001b[0;34m(self, key, indexer, axis, raise_missing)\u001b[0m\n\u001b[1;32m   1175\u001b[0m                 raise KeyError(\n\u001b[1;32m   1176\u001b[0m                     \"None of [{key}] are in the [{axis}]\".format(\n\u001b[0;32m-> 1177\u001b[0;31m                         \u001b[0mkey\u001b[0m\u001b[0;34m=\u001b[0m\u001b[0mkey\u001b[0m\u001b[0;34m,\u001b[0m \u001b[0maxis\u001b[0m\u001b[0;34m=\u001b[0m\u001b[0mself\u001b[0m\u001b[0;34m.\u001b[0m\u001b[0mobj\u001b[0m\u001b[0;34m.\u001b[0m\u001b[0m_get_axis_name\u001b[0m\u001b[0;34m(\u001b[0m\u001b[0maxis\u001b[0m\u001b[0;34m)\u001b[0m\u001b[0;34m\u001b[0m\u001b[0;34m\u001b[0m\u001b[0m\n\u001b[0m\u001b[1;32m   1178\u001b[0m                     )\n\u001b[1;32m   1179\u001b[0m                 )\n",
      "\u001b[0;31mKeyError\u001b[0m: \"None of [MultiIndex([(  1.0, 'Sunflower - Spider-Man: Into the Spider-Verse', ...),\\n            (  2.0,                                          'Wow.', ...),\\n            (  3.0,                                    'SICKO MODE', ...),\\n            (  4.0,                                 'thank u, next', ...),\\n            (  5.0,                       'Going Bad (feat. Drake)', ...),\\n            (  6.0,                                      'Mo Bamba', ...),\\n            (  7.0,              'Drip Too Hard (Lil Baby & Gunna)', ...),\\n            (  8.0,            'ZEZE (feat. Travis Scott & Offset)', ...),\\n            (  9.0,                                    'Without Me', ...),\\n            ( 10.0,                                'Leave Me Alone', ...),\\n            ...\\n            (191.0,                                 'Cheap Thrills', ...),\\n            (192.0,                                          'Fusk', ...),\\n            (193.0,                     'Promises (with Sam Smith)', ...),\\n            (194.0,                                     'September', ...),\\n            (195.0,                       'The Rhythm of the Night', ...),\\n            (196.0,                 'Hold On (feat. Michel Zitron)', ...),\\n            (197.0,                               'När jag var han', ...),\\n            (198.0,                                    'Safe Place', ...),\\n            (199.0,                           'Tror jag hittar hem', ...),\\n            (200.0,                                    'Costa Rica', ...)],\\n           names=['Position', 'Track Name', 'Artist', 'Streams', 'date', 'region', 'spotify_id'], length=730000)] are in the [columns]\""
     ]
    }
   ],
   "source": [
    "df[multi_index_df]"
   ]
  },
  {
   "cell_type": "code",
   "execution_count": null,
   "metadata": {},
   "outputs": [],
   "source": [
    "df.dtypes"
   ]
  },
  {
   "cell_type": "code",
   "execution_count": null,
   "metadata": {},
   "outputs": [],
   "source": [
    "df.isnull().sum()"
   ]
  },
  {
   "cell_type": "code",
   "execution_count": 10,
   "metadata": {},
   "outputs": [],
   "source": [
    "df.dropna(axis = 0, inplace = True)"
   ]
  },
  {
   "cell_type": "code",
   "execution_count": 11,
   "metadata": {},
   "outputs": [
    {
     "data": {
      "text/plain": [
       "Position      0\n",
       "Track Name    0\n",
       "Artist        0\n",
       "Streams       0\n",
       "date          0\n",
       "region        0\n",
       "spotify_id    0\n",
       "dtype: int64"
      ]
     },
     "execution_count": 11,
     "metadata": {},
     "output_type": "execute_result"
    }
   ],
   "source": [
    "df.isnull().sum()"
   ]
  },
  {
   "cell_type": "code",
   "execution_count": 12,
   "metadata": {},
   "outputs": [
    {
     "data": {
      "text/plain": [
       "fr    73000\n",
       "br    73000\n",
       "ca    73000\n",
       "nl    73000\n",
       "se    73000\n",
       "us    73000\n",
       "gb    73000\n",
       "de    72999\n",
       "au    72999\n",
       "mx    72759\n",
       "Name: region, dtype: int64"
      ]
     },
     "execution_count": 12,
     "metadata": {},
     "output_type": "execute_result"
    }
   ],
   "source": [
    "df['region'].value_counts()"
   ]
  },
  {
   "cell_type": "code",
   "execution_count": 13,
   "metadata": {},
   "outputs": [
    {
     "data": {
      "text/plain": [
       "(729757, 7)"
      ]
     },
     "execution_count": 13,
     "metadata": {},
     "output_type": "execute_result"
    }
   ],
   "source": [
    "df.shape"
   ]
  },
  {
   "cell_type": "code",
   "execution_count": 11,
   "metadata": {},
   "outputs": [],
   "source": [
    "df['region'] = df['region'].replace('au', 'Australia')\n",
    "df['region'] = df['region'].replace('br', 'Brazil')\n",
    "df['region'] = df['region'].replace('ca', 'Canada')\n",
    "df['region'] = df['region'].replace('us', 'USA')\n",
    "df['region'] = df['region'].replace('de', 'Germany')\n",
    "df['region'] = df['region'].replace('fr', 'France')\n",
    "df['region'] = df['region'].replace('mx', 'Mexico')\n",
    "df['region'] = df['region'].replace('nl', 'Netherlands')\n",
    "df['region'] = df['region'].replace('se', 'Sweden')\n",
    "df['region'] = df['region'].replace('gb', 'UK')\n"
   ]
  },
  {
   "cell_type": "code",
   "execution_count": null,
   "metadata": {},
   "outputs": [],
   "source": [
    "#to make it work use lambda function\n",
    "#df['region'] = df['region'].map({'au': 'Australia', 'br': 'Brazil', \n",
    "                                 #'ca':'Canada', 'us': 'USA', \n",
    "    #'gr': 'Germany', 'de': \"Germany\", 'fr': 'France', \n",
    "     #           'se': 'Sweden', 'mx': 'Mexico', 'nl': 'Netherlands'})"
   ]
  },
  {
   "cell_type": "code",
   "execution_count": 12,
   "metadata": {},
   "outputs": [],
   "source": [
    "def region_filter(region):\n",
    "    return df[df['region'] == region]"
   ]
  },
  {
   "cell_type": "code",
   "execution_count": 41,
   "metadata": {},
   "outputs": [],
   "source": [
    "germany_df = region_filter('Germany')"
   ]
  },
  {
   "cell_type": "code",
   "execution_count": 43,
   "metadata": {},
   "outputs": [
    {
     "data": {
      "text/html": [
       "<div>\n",
       "<style scoped>\n",
       "    .dataframe tbody tr th:only-of-type {\n",
       "        vertical-align: middle;\n",
       "    }\n",
       "\n",
       "    .dataframe tbody tr th {\n",
       "        vertical-align: top;\n",
       "    }\n",
       "\n",
       "    .dataframe thead th {\n",
       "        text-align: right;\n",
       "    }\n",
       "</style>\n",
       "<table border=\"1\" class=\"dataframe\">\n",
       "  <thead>\n",
       "    <tr style=\"text-align: right;\">\n",
       "      <th>Position</th>\n",
       "      <th>1.0</th>\n",
       "      <th>2.0</th>\n",
       "      <th>3.0</th>\n",
       "      <th>4.0</th>\n",
       "      <th>5.0</th>\n",
       "      <th>6.0</th>\n",
       "      <th>7.0</th>\n",
       "      <th>8.0</th>\n",
       "      <th>9.0</th>\n",
       "      <th>10.0</th>\n",
       "      <th>...</th>\n",
       "      <th>191.0</th>\n",
       "      <th>192.0</th>\n",
       "      <th>193.0</th>\n",
       "      <th>194.0</th>\n",
       "      <th>195.0</th>\n",
       "      <th>196.0</th>\n",
       "      <th>197.0</th>\n",
       "      <th>198.0</th>\n",
       "      <th>199.0</th>\n",
       "      <th>200.0</th>\n",
       "    </tr>\n",
       "    <tr>\n",
       "      <th>date</th>\n",
       "      <th></th>\n",
       "      <th></th>\n",
       "      <th></th>\n",
       "      <th></th>\n",
       "      <th></th>\n",
       "      <th></th>\n",
       "      <th></th>\n",
       "      <th></th>\n",
       "      <th></th>\n",
       "      <th></th>\n",
       "      <th></th>\n",
       "      <th></th>\n",
       "      <th></th>\n",
       "      <th></th>\n",
       "      <th></th>\n",
       "      <th></th>\n",
       "      <th></th>\n",
       "      <th></th>\n",
       "      <th></th>\n",
       "      <th></th>\n",
       "      <th></th>\n",
       "    </tr>\n",
       "  </thead>\n",
       "  <tbody>\n",
       "    <tr>\n",
       "      <th>2019-01-01</th>\n",
       "      <td>439742.0</td>\n",
       "      <td>373845.0</td>\n",
       "      <td>353209.0</td>\n",
       "      <td>285326.0</td>\n",
       "      <td>247009.0</td>\n",
       "      <td>240526.0</td>\n",
       "      <td>238731.0</td>\n",
       "      <td>215591.0</td>\n",
       "      <td>205476.0</td>\n",
       "      <td>181041.0</td>\n",
       "      <td>...</td>\n",
       "      <td>39048.0</td>\n",
       "      <td>38983.0</td>\n",
       "      <td>38787.0</td>\n",
       "      <td>38744.0</td>\n",
       "      <td>38665.0</td>\n",
       "      <td>38513.0</td>\n",
       "      <td>38399.0</td>\n",
       "      <td>38374.0</td>\n",
       "      <td>38363.0</td>\n",
       "      <td>38178.0</td>\n",
       "    </tr>\n",
       "    <tr>\n",
       "      <th>2019-01-02</th>\n",
       "      <td>571275.0</td>\n",
       "      <td>488183.0</td>\n",
       "      <td>424648.0</td>\n",
       "      <td>366452.0</td>\n",
       "      <td>320501.0</td>\n",
       "      <td>309449.0</td>\n",
       "      <td>274834.0</td>\n",
       "      <td>260508.0</td>\n",
       "      <td>240324.0</td>\n",
       "      <td>220091.0</td>\n",
       "      <td>...</td>\n",
       "      <td>42209.0</td>\n",
       "      <td>42192.0</td>\n",
       "      <td>42097.0</td>\n",
       "      <td>41992.0</td>\n",
       "      <td>41965.0</td>\n",
       "      <td>41658.0</td>\n",
       "      <td>41301.0</td>\n",
       "      <td>40939.0</td>\n",
       "      <td>40598.0</td>\n",
       "      <td>40595.0</td>\n",
       "    </tr>\n",
       "    <tr>\n",
       "      <th>2019-01-03</th>\n",
       "      <td>556746.0</td>\n",
       "      <td>454237.0</td>\n",
       "      <td>420376.0</td>\n",
       "      <td>361066.0</td>\n",
       "      <td>311336.0</td>\n",
       "      <td>309767.0</td>\n",
       "      <td>273460.0</td>\n",
       "      <td>260452.0</td>\n",
       "      <td>240350.0</td>\n",
       "      <td>216102.0</td>\n",
       "      <td>...</td>\n",
       "      <td>42497.0</td>\n",
       "      <td>41968.0</td>\n",
       "      <td>41919.0</td>\n",
       "      <td>41899.0</td>\n",
       "      <td>41760.0</td>\n",
       "      <td>41204.0</td>\n",
       "      <td>41010.0</td>\n",
       "      <td>40692.0</td>\n",
       "      <td>40660.0</td>\n",
       "      <td>40576.0</td>\n",
       "    </tr>\n",
       "    <tr>\n",
       "      <th>2019-01-04</th>\n",
       "      <td>580879.0</td>\n",
       "      <td>477659.0</td>\n",
       "      <td>444815.0</td>\n",
       "      <td>383242.0</td>\n",
       "      <td>326291.0</td>\n",
       "      <td>323079.0</td>\n",
       "      <td>302538.0</td>\n",
       "      <td>296674.0</td>\n",
       "      <td>275496.0</td>\n",
       "      <td>254480.0</td>\n",
       "      <td>...</td>\n",
       "      <td>46409.0</td>\n",
       "      <td>46360.0</td>\n",
       "      <td>46002.0</td>\n",
       "      <td>45902.0</td>\n",
       "      <td>45693.0</td>\n",
       "      <td>45420.0</td>\n",
       "      <td>45361.0</td>\n",
       "      <td>45212.0</td>\n",
       "      <td>44990.0</td>\n",
       "      <td>44824.0</td>\n",
       "    </tr>\n",
       "    <tr>\n",
       "      <th>2019-01-05</th>\n",
       "      <td>543234.0</td>\n",
       "      <td>451848.0</td>\n",
       "      <td>430407.0</td>\n",
       "      <td>366424.0</td>\n",
       "      <td>318067.0</td>\n",
       "      <td>309575.0</td>\n",
       "      <td>303608.0</td>\n",
       "      <td>272966.0</td>\n",
       "      <td>259082.0</td>\n",
       "      <td>242696.0</td>\n",
       "      <td>...</td>\n",
       "      <td>46149.0</td>\n",
       "      <td>45761.0</td>\n",
       "      <td>45759.0</td>\n",
       "      <td>45735.0</td>\n",
       "      <td>45730.0</td>\n",
       "      <td>45710.0</td>\n",
       "      <td>45576.0</td>\n",
       "      <td>45548.0</td>\n",
       "      <td>45178.0</td>\n",
       "      <td>44551.0</td>\n",
       "    </tr>\n",
       "    <tr>\n",
       "      <th>...</th>\n",
       "      <td>...</td>\n",
       "      <td>...</td>\n",
       "      <td>...</td>\n",
       "      <td>...</td>\n",
       "      <td>...</td>\n",
       "      <td>...</td>\n",
       "      <td>...</td>\n",
       "      <td>...</td>\n",
       "      <td>...</td>\n",
       "      <td>...</td>\n",
       "      <td>...</td>\n",
       "      <td>...</td>\n",
       "      <td>...</td>\n",
       "      <td>...</td>\n",
       "      <td>...</td>\n",
       "      <td>...</td>\n",
       "      <td>...</td>\n",
       "      <td>...</td>\n",
       "      <td>...</td>\n",
       "      <td>...</td>\n",
       "      <td>...</td>\n",
       "    </tr>\n",
       "    <tr>\n",
       "      <th>2019-12-27</th>\n",
       "      <td>646855.0</td>\n",
       "      <td>599246.0</td>\n",
       "      <td>485019.0</td>\n",
       "      <td>433087.0</td>\n",
       "      <td>365929.0</td>\n",
       "      <td>360589.0</td>\n",
       "      <td>347728.0</td>\n",
       "      <td>346384.0</td>\n",
       "      <td>344211.0</td>\n",
       "      <td>343705.0</td>\n",
       "      <td>...</td>\n",
       "      <td>62886.0</td>\n",
       "      <td>62746.0</td>\n",
       "      <td>62514.0</td>\n",
       "      <td>62337.0</td>\n",
       "      <td>61728.0</td>\n",
       "      <td>61269.0</td>\n",
       "      <td>60907.0</td>\n",
       "      <td>60598.0</td>\n",
       "      <td>60249.0</td>\n",
       "      <td>60238.0</td>\n",
       "    </tr>\n",
       "    <tr>\n",
       "      <th>2019-12-28</th>\n",
       "      <td>648955.0</td>\n",
       "      <td>514501.0</td>\n",
       "      <td>506313.0</td>\n",
       "      <td>416661.0</td>\n",
       "      <td>369509.0</td>\n",
       "      <td>368787.0</td>\n",
       "      <td>347057.0</td>\n",
       "      <td>346031.0</td>\n",
       "      <td>345905.0</td>\n",
       "      <td>322338.0</td>\n",
       "      <td>...</td>\n",
       "      <td>61762.0</td>\n",
       "      <td>61396.0</td>\n",
       "      <td>61391.0</td>\n",
       "      <td>61095.0</td>\n",
       "      <td>60843.0</td>\n",
       "      <td>60268.0</td>\n",
       "      <td>59993.0</td>\n",
       "      <td>59888.0</td>\n",
       "      <td>59485.0</td>\n",
       "      <td>59188.0</td>\n",
       "    </tr>\n",
       "    <tr>\n",
       "      <th>2019-12-29</th>\n",
       "      <td>548825.0</td>\n",
       "      <td>438473.0</td>\n",
       "      <td>404812.0</td>\n",
       "      <td>355110.0</td>\n",
       "      <td>346519.0</td>\n",
       "      <td>319097.0</td>\n",
       "      <td>298610.0</td>\n",
       "      <td>296869.0</td>\n",
       "      <td>292788.0</td>\n",
       "      <td>283014.0</td>\n",
       "      <td>...</td>\n",
       "      <td>53928.0</td>\n",
       "      <td>53572.0</td>\n",
       "      <td>52957.0</td>\n",
       "      <td>52906.0</td>\n",
       "      <td>52799.0</td>\n",
       "      <td>52788.0</td>\n",
       "      <td>52674.0</td>\n",
       "      <td>52665.0</td>\n",
       "      <td>52278.0</td>\n",
       "      <td>51501.0</td>\n",
       "    </tr>\n",
       "    <tr>\n",
       "      <th>2019-12-30</th>\n",
       "      <td>645312.0</td>\n",
       "      <td>503608.0</td>\n",
       "      <td>460252.0</td>\n",
       "      <td>431376.0</td>\n",
       "      <td>410868.0</td>\n",
       "      <td>379045.0</td>\n",
       "      <td>349291.0</td>\n",
       "      <td>345434.0</td>\n",
       "      <td>344148.0</td>\n",
       "      <td>324891.0</td>\n",
       "      <td>...</td>\n",
       "      <td>60780.0</td>\n",
       "      <td>60662.0</td>\n",
       "      <td>60558.0</td>\n",
       "      <td>60515.0</td>\n",
       "      <td>59970.0</td>\n",
       "      <td>59353.0</td>\n",
       "      <td>59281.0</td>\n",
       "      <td>58867.0</td>\n",
       "      <td>58568.0</td>\n",
       "      <td>58568.0</td>\n",
       "    </tr>\n",
       "    <tr>\n",
       "      <th>2019-12-31</th>\n",
       "      <td>978510.0</td>\n",
       "      <td>812495.0</td>\n",
       "      <td>588017.0</td>\n",
       "      <td>496103.0</td>\n",
       "      <td>455980.0</td>\n",
       "      <td>449585.0</td>\n",
       "      <td>448731.0</td>\n",
       "      <td>424609.0</td>\n",
       "      <td>419995.0</td>\n",
       "      <td>403614.0</td>\n",
       "      <td>...</td>\n",
       "      <td>91996.0</td>\n",
       "      <td>91845.0</td>\n",
       "      <td>91740.0</td>\n",
       "      <td>91717.0</td>\n",
       "      <td>91429.0</td>\n",
       "      <td>91082.0</td>\n",
       "      <td>90931.0</td>\n",
       "      <td>90925.0</td>\n",
       "      <td>90302.0</td>\n",
       "      <td>89937.0</td>\n",
       "    </tr>\n",
       "  </tbody>\n",
       "</table>\n",
       "<p>365 rows × 200 columns</p>\n",
       "</div>"
      ],
      "text/plain": [
       "Position       1.0       2.0       3.0       4.0       5.0       6.0    \\\n",
       "date                                                                     \n",
       "2019-01-01  439742.0  373845.0  353209.0  285326.0  247009.0  240526.0   \n",
       "2019-01-02  571275.0  488183.0  424648.0  366452.0  320501.0  309449.0   \n",
       "2019-01-03  556746.0  454237.0  420376.0  361066.0  311336.0  309767.0   \n",
       "2019-01-04  580879.0  477659.0  444815.0  383242.0  326291.0  323079.0   \n",
       "2019-01-05  543234.0  451848.0  430407.0  366424.0  318067.0  309575.0   \n",
       "...              ...       ...       ...       ...       ...       ...   \n",
       "2019-12-27  646855.0  599246.0  485019.0  433087.0  365929.0  360589.0   \n",
       "2019-12-28  648955.0  514501.0  506313.0  416661.0  369509.0  368787.0   \n",
       "2019-12-29  548825.0  438473.0  404812.0  355110.0  346519.0  319097.0   \n",
       "2019-12-30  645312.0  503608.0  460252.0  431376.0  410868.0  379045.0   \n",
       "2019-12-31  978510.0  812495.0  588017.0  496103.0  455980.0  449585.0   \n",
       "\n",
       "Position       7.0       8.0       9.0       10.0   ...    191.0    192.0  \\\n",
       "date                                                ...                     \n",
       "2019-01-01  238731.0  215591.0  205476.0  181041.0  ...  39048.0  38983.0   \n",
       "2019-01-02  274834.0  260508.0  240324.0  220091.0  ...  42209.0  42192.0   \n",
       "2019-01-03  273460.0  260452.0  240350.0  216102.0  ...  42497.0  41968.0   \n",
       "2019-01-04  302538.0  296674.0  275496.0  254480.0  ...  46409.0  46360.0   \n",
       "2019-01-05  303608.0  272966.0  259082.0  242696.0  ...  46149.0  45761.0   \n",
       "...              ...       ...       ...       ...  ...      ...      ...   \n",
       "2019-12-27  347728.0  346384.0  344211.0  343705.0  ...  62886.0  62746.0   \n",
       "2019-12-28  347057.0  346031.0  345905.0  322338.0  ...  61762.0  61396.0   \n",
       "2019-12-29  298610.0  296869.0  292788.0  283014.0  ...  53928.0  53572.0   \n",
       "2019-12-30  349291.0  345434.0  344148.0  324891.0  ...  60780.0  60662.0   \n",
       "2019-12-31  448731.0  424609.0  419995.0  403614.0  ...  91996.0  91845.0   \n",
       "\n",
       "Position      193.0    194.0    195.0    196.0    197.0    198.0    199.0  \\\n",
       "date                                                                        \n",
       "2019-01-01  38787.0  38744.0  38665.0  38513.0  38399.0  38374.0  38363.0   \n",
       "2019-01-02  42097.0  41992.0  41965.0  41658.0  41301.0  40939.0  40598.0   \n",
       "2019-01-03  41919.0  41899.0  41760.0  41204.0  41010.0  40692.0  40660.0   \n",
       "2019-01-04  46002.0  45902.0  45693.0  45420.0  45361.0  45212.0  44990.0   \n",
       "2019-01-05  45759.0  45735.0  45730.0  45710.0  45576.0  45548.0  45178.0   \n",
       "...             ...      ...      ...      ...      ...      ...      ...   \n",
       "2019-12-27  62514.0  62337.0  61728.0  61269.0  60907.0  60598.0  60249.0   \n",
       "2019-12-28  61391.0  61095.0  60843.0  60268.0  59993.0  59888.0  59485.0   \n",
       "2019-12-29  52957.0  52906.0  52799.0  52788.0  52674.0  52665.0  52278.0   \n",
       "2019-12-30  60558.0  60515.0  59970.0  59353.0  59281.0  58867.0  58568.0   \n",
       "2019-12-31  91740.0  91717.0  91429.0  91082.0  90931.0  90925.0  90302.0   \n",
       "\n",
       "Position      200.0  \n",
       "date                 \n",
       "2019-01-01  38178.0  \n",
       "2019-01-02  40595.0  \n",
       "2019-01-03  40576.0  \n",
       "2019-01-04  44824.0  \n",
       "2019-01-05  44551.0  \n",
       "...             ...  \n",
       "2019-12-27  60238.0  \n",
       "2019-12-28  59188.0  \n",
       "2019-12-29  51501.0  \n",
       "2019-12-30  58568.0  \n",
       "2019-12-31  89937.0  \n",
       "\n",
       "[365 rows x 200 columns]"
      ]
     },
     "execution_count": 43,
     "metadata": {},
     "output_type": "execute_result"
    }
   ],
   "source": [
    "germany_df.pivot(index='date', columns='Position', values='Streams')"
   ]
  },
  {
   "cell_type": "code",
   "execution_count": null,
   "metadata": {},
   "outputs": [],
   "source": [
    "avg_stream = df.groupby('region')['Streams'].mean()"
   ]
  },
  {
   "cell_type": "code",
   "execution_count": null,
   "metadata": {},
   "outputs": [],
   "source": [
    "ax = avg_stream.plot(kind = 'bar', figsize=(8, 3), \n",
    "                     color='darkturquoise', zorder=2, \n",
    "                        width=0.85)\n",
    "plt.title(\"Average Streams by Top 10 Markets\",fontweight=\"bold\");\n",
    "\n"
   ]
  },
  {
   "cell_type": "code",
   "execution_count": null,
   "metadata": {},
   "outputs": [],
   "source": [
    "rank1_mask = df[df['Position']== 1]"
   ]
  },
  {
   "cell_type": "code",
   "execution_count": null,
   "metadata": {},
   "outputs": [],
   "source": [
    "top_artists = rank1_mask['Artist'].value_counts(ascending = False).head(10)"
   ]
  },
  {
   "cell_type": "code",
   "execution_count": null,
   "metadata": {},
   "outputs": [],
   "source": [
    "top_tracks = rank1_mask['Track Name'].value_counts(ascending = False).head(10)"
   ]
  },
  {
   "cell_type": "code",
   "execution_count": null,
   "metadata": {},
   "outputs": [],
   "source": [
    "ax = top_artists.plot(kind = 'barh', figsize=(8, 5), \n",
    "                     color='darkturquoise', zorder=2, \n",
    "                        width=0.85)\n",
    "plt.title(\"Top Artists 2019\", fontweight = 'bold')\n",
    "ax.invert_yaxis();"
   ]
  },
  {
   "cell_type": "code",
   "execution_count": null,
   "metadata": {},
   "outputs": [],
   "source": [
    "ax = top_tracks.plot(kind = 'barh', figsize=(8, 5), \n",
    "                     color='darkturquoise', zorder=2, \n",
    "                        width=0.85)\n",
    "plt.title(\"Top Tracks 2019\", fontweight = 'bold')\n",
    "ax.invert_yaxis();"
   ]
  },
  {
   "cell_type": "code",
   "execution_count": null,
   "metadata": {},
   "outputs": [],
   "source": [
    "top_singers_byreg = df[df['Position']==1].groupby('region')['Artist'].value_counts()"
   ]
  },
  {
   "cell_type": "code",
   "execution_count": null,
   "metadata": {},
   "outputs": [],
   "source": [
    "top_singers_byreg"
   ]
  },
  {
   "cell_type": "code",
   "execution_count": null,
   "metadata": {},
   "outputs": [],
   "source": [
    "df[df['Position']==1]['Streams'].groupby(df['Artist']).sum().sort_values(ascending = False)"
   ]
  },
  {
   "cell_type": "code",
   "execution_count": null,
   "metadata": {},
   "outputs": [],
   "source": [
    "# how can I make counts based on # of Streams?\n",
    "\n",
    "df[df['Position']==1]['Artist'].value_counts()"
   ]
  },
  {
   "cell_type": "code",
   "execution_count": null,
   "metadata": {},
   "outputs": [],
   "source": [
    "top_singers_byreg"
   ]
  },
  {
   "cell_type": "code",
   "execution_count": null,
   "metadata": {},
   "outputs": [],
   "source": [
    "top_songs_byreg = df[df['Position']==1].groupby('region')['Track Name'].value_counts()"
   ]
  },
  {
   "cell_type": "code",
   "execution_count": null,
   "metadata": {},
   "outputs": [],
   "source": [
    "top_songs_byreg "
   ]
  },
  {
   "cell_type": "code",
   "execution_count": null,
   "metadata": {},
   "outputs": [],
   "source": [
    "df.dtypes"
   ]
  },
  {
   "cell_type": "code",
   "execution_count": null,
   "metadata": {},
   "outputs": [],
   "source": [
    "#df = pd.get_dummies(df, columns = ['region','Artist'],drop_first=True)"
   ]
  },
  {
   "cell_type": "code",
   "execution_count": null,
   "metadata": {},
   "outputs": [],
   "source": [
    "df.shape"
   ]
  },
  {
   "cell_type": "code",
   "execution_count": 28,
   "metadata": {},
   "outputs": [
    {
     "data": {
      "text/plain": [
       "2019-08-18    2000\n",
       "2019-06-27    2000\n",
       "2019-01-16    2000\n",
       "2019-02-18    2000\n",
       "2019-08-26    2000\n",
       "              ... \n",
       "2019-03-05    1995\n",
       "2019-03-02    1995\n",
       "2019-03-04    1995\n",
       "2019-03-03    1995\n",
       "2019-04-13    1800\n",
       "Name: date, Length: 365, dtype: int64"
      ]
     },
     "execution_count": 28,
     "metadata": {},
     "output_type": "execute_result"
    }
   ],
   "source": [
    "pd.to_datetime(df.date).value_counts()"
   ]
  },
  {
   "cell_type": "code",
   "execution_count": 33,
   "metadata": {},
   "outputs": [
    {
     "ename": "SyntaxError",
     "evalue": "invalid syntax (<ipython-input-33-a794b0ee85ca>, line 1)",
     "output_type": "error",
     "traceback": [
      "\u001b[0;36m  File \u001b[0;32m\"<ipython-input-33-a794b0ee85ca>\"\u001b[0;36m, line \u001b[0;32m1\u001b[0m\n\u001b[0;31m    pd.MultiIndex(df, levels=[df[['region', 'Position']])\u001b[0m\n\u001b[0m                                                        ^\u001b[0m\n\u001b[0;31mSyntaxError\u001b[0m\u001b[0;31m:\u001b[0m invalid syntax\n"
     ]
    }
   ],
   "source": [
    "pd.MultiIndex(df, levels=[df[['region', 'Position']])"
   ]
  },
  {
   "cell_type": "code",
   "execution_count": null,
   "metadata": {},
   "outputs": [],
   "source": [
    "# Change date column to be datetime dtype\n",
    "df.set_index(pd.to_datetime(df['date']), inplace = True)"
   ]
  },
  {
   "cell_type": "code",
   "execution_count": null,
   "metadata": {},
   "outputs": [],
   "source": [
    "df.drop(columns =['date'], inplace = True)"
   ]
  },
  {
   "cell_type": "code",
   "execution_count": null,
   "metadata": {},
   "outputs": [],
   "source": [
    "df[df['Track Name'] == 'Wow.']"
   ]
  },
  {
   "cell_type": "code",
   "execution_count": 48,
   "metadata": {},
   "outputs": [],
   "source": [
    "def plot_series(df, cols=None, title='Title', xlab=None, ylab=None, steps=1):\n",
    "    \n",
    "    \n",
    "    plt.figure(figsize=(18,9))\n",
    "    for col in cols:\n",
    "        plt.plot(df[col])\n",
    "    \n",
    "    plt.title(title, fontsize=26)\n",
    "    plt.xlabel(xlab, fontsize=20)\n",
    "    plt.ylabel(ylab, fontsize=20)\n",
    "    plt.yticks(fontsize=18)\n",
    "    plt.xticks(df.index[0::steps], fontsize=18);"
   ]
  },
  {
   "cell_type": "code",
   "execution_count": 53,
   "metadata": {},
   "outputs": [
    {
     "data": {
      "image/png": "[encoded data removed]",
      "text/plain": [
       "<Figure size 1296x648 with 1 Axes>"
      ]
     },
     "metadata": {
      "image/png": {
       "height": 553,
       "width": 1048
      },
      "needs_background": "light"
     },
     "output_type": "display_data"
    }
   ],
   "source": [
    "plot_series(df['spotify_id'] == '7KPGeiXWDsGEvFK62wzU8E'], cols=['Position'], title = '888', steps = 12)\n",
    "inves"
   ]
  },
  {
   "cell_type": "code",
   "execution_count": null,
   "metadata": {},
   "outputs": [],
   "source": [
    "df.sort_index(inplace = True)"
   ]
  },
  {
   "cell_type": "code",
   "execution_count": null,
   "metadata": {},
   "outputs": [],
   "source": [
    "df['Streams'].resample('MS', closed = 'right').mean().plot()"
   ]
  },
  {
   "cell_type": "code",
   "execution_count": null,
   "metadata": {},
   "outputs": [],
   "source": [
    "plot_series(df.resample('MS', closed = 'right').mean(),\n",
    "            ['Streams'],\n",
    "            title = 'Monthly Average Streams',\n",
    "            steps = 12)"
   ]
  },
  {
   "cell_type": "code",
   "execution_count": null,
   "metadata": {},
   "outputs": [],
   "source": [
    "plt.figure(figsize=(12,8))\n",
    "plt.plot(df['Streams']);"
   ]
  },
  {
   "cell_type": "code",
   "execution_count": null,
   "metadata": {},
   "outputs": [],
   "source": [
    "df.head()"
   ]
  },
  {
   "cell_type": "code",
   "execution_count": null,
   "metadata": {},
   "outputs": [],
   "source": [
    "df['Streams'].groupby(df['Artist'])"
   ]
  },
  {
   "cell_type": "code",
   "execution_count": null,
   "metadata": {},
   "outputs": [],
   "source": [
    "region_filter('Australia')"
   ]
  },
  {
   "cell_type": "code",
   "execution_count": null,
   "metadata": {},
   "outputs": [],
   "source": [
    "df['Position'].head()"
   ]
  },
  {
   "cell_type": "code",
   "execution_count": null,
   "metadata": {},
   "outputs": [],
   "source": [
    "for i in df['Position']:\n",
    "    "
   ]
  },
  {
   "cell_type": "code",
   "execution_count": null,
   "metadata": {},
   "outputs": [],
   "source": [
    "def position_change(col, i, region):\n",
    "    for i in df['Position']:\n",
    "        if i == i:\n",
    "            return df['Streams']\n",
    "        else: \n",
    "            return df['Streams'].diff(1) \n",
    "                    "
   ]
  },
  {
   "cell_type": "code",
   "execution_count": null,
   "metadata": {},
   "outputs": [],
   "source": [
    "fig, axes = plt.subplots(nrows=3, figsize=(15,12))\n",
    "axes[0].plot(df['Streams']) # actual trend \n",
    "axes[1].plot(df['Streams'].diff(1)) # \n",
    "axes[2].plot(df['Streams'].pct_change())"
   ]
  },
  {
   "cell_type": "code",
   "execution_count": null,
   "metadata": {},
   "outputs": [],
   "source": [
    "df['avg_streams'] = df['avg_stream'].diff(1)\n",
    "df['first_diff_Streams'] = df['avg_stream'].diff(1)\n",
    "df['second_diff_temp'] = df['avg_temp'].diff(1).diff(1)"
   ]
  },
  {
   "cell_type": "code",
   "execution_count": null,
   "metadata": {},
   "outputs": [],
   "source": [
    "from statsmodels.tsa.seasonal import seasonal_decompose\n",
    "from statsmodels.graphics.tsaplots import plot_acf"
   ]
  },
  {
   "cell_type": "markdown",
   "metadata": {},
   "source": [
    "### MODEL"
   ]
  },
  {
   "cell_type": "code",
   "execution_count": null,
   "metadata": {},
   "outputs": [],
   "source": [
    "X_train, X_test, y_train, y_test = train_test_split(air.drop(columns='Streams'),\n",
    "                                                    air['Streams'],\n",
    "                                                    test_size = 0.2, shuffle = False) # shuffle param VERY IMPORTANT!"
   ]
  },
  {
   "cell_type": "code",
   "execution_count": null,
   "metadata": {},
   "outputs": [],
   "source": [
    "y_train.value_counts(normalize = True)"
   ]
  },
  {
   "cell_type": "code",
   "execution_count": null,
   "metadata": {},
   "outputs": [],
   "source": []
  }
 ],
 "metadata": {
  "kernelspec": {
   "display_name": "Python 3",
   "language": "python",
   "name": "python3"
  },
  "language_info": {
   "codemirror_mode": {
    "name": "ipython",
    "version": 3
   },
   "file_extension": ".py",
   "mimetype": "text/x-python",
   "name": "python",
   "nbconvert_exporter": "python",
   "pygments_lexer": "ipython3",
   "version": "3.7.4"
  }
 },
 "nbformat": 4,
 "nbformat_minor": 2
}
